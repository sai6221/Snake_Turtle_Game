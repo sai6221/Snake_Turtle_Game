{
 "cells": [
  {
   "cell_type": "code",
   "execution_count": 5,
   "metadata": {},
   "outputs": [],
   "source": [
    "import turtle\n",
    "t=turtle.Turtle()\n",
    "s=turtle.Screen()\n",
    "s.colormode(255)"
   ]
  },
  {
   "cell_type": "code",
   "execution_count": 4,
   "metadata": {},
   "outputs": [],
   "source": [
    "t.forward(100)"
   ]
  },
  {
   "cell_type": "code",
   "execution_count": 3,
   "metadata": {},
   "outputs": [],
   "source": [
    "t.color(\"blue\")"
   ]
  },
  {
   "cell_type": "code",
   "execution_count": 8,
   "metadata": {},
   "outputs": [],
   "source": [
    "#Random Walk With Random Colors\n",
    "import random\n",
    "directions = [0,90,180,270]\n",
    "\n",
    "def random_colors():\n",
    "    r=random.randint(0,255)\n",
    "    g=random.randint(0,255)\n",
    "    b=random.randint(0,255)\n",
    "    return (r,g,b)\n",
    "\n",
    "t.pensize(10)\n",
    "for _ in range(200):\n",
    "    t.color(random_colors())\n",
    "    t.forward(20)\n",
    "    t.setheading(random.choice(directions))\n",
    "    t.speed(\"fast\")"
   ]
  },
  {
   "cell_type": "code",
   "execution_count": 22,
   "metadata": {},
   "outputs": [],
   "source": [
    "#Circle Spirographs\n",
    "\n",
    "t.width(1)\n",
    "t.setposition(0,0)\n",
    "\n",
    "for i in range(0,360,10):\n",
    "    t.circle(100)\n",
    "    t.color(random_colors())\n",
    "    t.setheading(i)\n",
    "    t.speed(\"fastest\")"
   ]
  },
  {
   "cell_type": "code",
   "execution_count": null,
   "metadata": {},
   "outputs": [],
   "source": []
  }
 ],
 "metadata": {
  "kernelspec": {
   "display_name": "Python 3",
   "language": "python",
   "name": "python3"
  },
  "language_info": {
   "codemirror_mode": {
    "name": "ipython",
    "version": 3
   },
   "file_extension": ".py",
   "mimetype": "text/x-python",
   "name": "python",
   "nbconvert_exporter": "python",
   "pygments_lexer": "ipython3",
   "version": "3.7.4"
  }
 },
 "nbformat": 4,
 "nbformat_minor": 2
}
