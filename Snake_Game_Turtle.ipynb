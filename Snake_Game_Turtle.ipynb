{
 "cells": [
  {
   "cell_type": "code",
   "execution_count": 5,
   "metadata": {},
   "outputs": [],
   "source": [
    "from turtle import Screen,Turtle\n",
    "import time\n",
    "from Snake_module import Snake\n",
    "from Food_module import Food\n",
    "from Scoreboard_module import ScoreBoard\n",
    "\n",
    "s = Screen()\n",
    "\n",
    "s.setup(600,600)\n",
    "s.bgcolor(\"black\")\n",
    "s.title(\"Snake Game\")\n",
    "s.tracer(0)\n",
    "snake = Snake()\n",
    "food = Food()\n",
    "score=ScoreBoard()\n",
    "s.listen()\n",
    "s.onkey(snake.up,\"Up\")\n",
    "s.onkey(snake.down,\"Down\")\n",
    "s.onkey(snake.left,\"Left\")\n",
    "s.onkey(snake.right,\"Right\")\n",
    "\n",
    "game_on= True\n",
    "\n",
    "while(game_on):\n",
    "    s.update()\n",
    "    time.sleep(0.1)\n",
    "    snake.move()\n",
    "    \n",
    "    if(snake.head.distance(food) < 15):\n",
    "        food.refresh()\n",
    "        snake.extend()\n",
    "        score.increase()\n",
    "    if(snake.head.xcor()>290 or snake.head.xcor()<-290 or snake.head.ycor()>290 or snake.head.ycor()<-290):\n",
    "        game_on=False\n",
    "        score.game_over()\n",
    "        \n",
    "    for i in (snake.bodys[1:]):\n",
    "        if(snake.head.distance(i)<10):\n",
    "            game_on = False\n",
    "            score.game_over()\n",
    "time.sleep(5)\n",
    "s.clear()"
   ]
  },
  {
   "cell_type": "code",
   "execution_count": 4,
   "metadata": {},
   "outputs": [],
   "source": []
  },
  {
   "cell_type": "code",
   "execution_count": null,
   "metadata": {},
   "outputs": [],
   "source": []
  }
 ],
 "metadata": {
  "kernelspec": {
   "display_name": "Python 3",
   "language": "python",
   "name": "python3"
  },
  "language_info": {
   "codemirror_mode": {
    "name": "ipython",
    "version": 3
   },
   "file_extension": ".py",
   "mimetype": "text/x-python",
   "name": "python",
   "nbconvert_exporter": "python",
   "pygments_lexer": "ipython3",
   "version": "3.7.4"
  }
 },
 "nbformat": 4,
 "nbformat_minor": 2
}
